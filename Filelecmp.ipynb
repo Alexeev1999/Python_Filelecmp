{
 "cells": [
  {
   "cell_type": "markdown",
   "metadata": {},
   "source": [
    "## filelecmp: сравнение файлов  "
   ]
  },
  {
   "cell_type": "markdown",
   "metadata": {},
   "source": [
    "Модуль filecmp включает функции и класс, позволяющие сравнивать файлы и\n",
    "каталоги, которые хранятся в файловой системе"
   ]
  },
  {
   "cell_type": "code",
   "execution_count": 22,
   "metadata": {},
   "outputs": [],
   "source": [
    "import os\n",
    "\n",
    "def mkfile(filename, body=None):\n",
    "    with open(filename, 'w') as f:\n",
    "        f.write(body or filename)\n",
    "    return\n",
    "\n",
    "def make_example_dir(top):\n",
    "    if not os.path.exists(top):\n",
    "        os.mkdir(top)\n",
    "    curdir = os.getcwd()\n",
    "    os.chdir(top)\n",
    "    \n",
    "    os.mkdir('dir1 ')\n",
    "    os.mkdir('dir2 ')\n",
    "\n",
    "    mkfile('dir1/file_only_in_dir1')\n",
    "    mkfile('dir2/file_only_in_dir2')\n",
    "             \n",
    "    os.mkdir('dir1/dir_only_in_dir1')\n",
    "    os.mkdir('dir2/dir_only_in_dir2')\n",
    "             \n",
    "    os.mkdir('dir1/common_dir')\n",
    "    os.mkdir('dir2/common_dir')\n",
    "             \n",
    "    mkfile('dir1/common_file', 'this file is the same')\n",
    "    mkfile('dir2/common_file', 'this file is the same')\n",
    "             \n",
    "    mkfile('dir1/not_the_same')\n",
    "    mkfile('dir2/not_the_same')\n",
    "             \n",
    "    mkfile('dir1/file_in_dirl', 'This is a file in dir1')\n",
    "    os.mkdir('dir2/file_in_dir1')\n",
    "           \n",
    "    os.chdir(curdir)\n",
    "    return\n",
    "           \n",
    "if __name__ == '__main__' :\n",
    "    os.chdir(os.path.dirname('Untitled1') or os.getcwd())\n",
    "    make_example_dir('example')\n",
    "    make_example_dir('example/dir1/common_dir')\n",
    "    make_example_dir('example/dir2/common_dir')\n",
    "    \n"
   ]
  },
  {
   "cell_type": "markdown",
   "metadata": {},
   "source": [
    "В результате выполнения этого сценария в каталоге example создается дерево\n",
    "файлов."
   ]
  },
  {
   "cell_type": "markdown",
   "metadata": {},
   "source": [
    "#### Сравнение файлов"
   ]
  },
  {
   "cell_type": "markdown",
   "metadata": {},
   "source": [
    "Функция cmp () сравнивает два файла, принадлежащих файловой системе."
   ]
  },
  {
   "cell_type": "code",
   "execution_count": 41,
   "metadata": {},
   "outputs": [
    {
     "name": "stdout",
     "output_type": "stream",
     "text": [
      "common_file : True True\n",
      "not_the_same: False True\n",
      "identical : True True\n"
     ]
    }
   ],
   "source": [
    "import filecmp\n",
    "\n",
    "print('common_file :', end=' ')\n",
    "print(filecmp.cmp('example/dir1/common_file',\n",
    "                  'example/dir2/common_file'),\n",
    "      end=' ')\n",
    "\n",
    "print(filecmp.cmp('example/dir1/common_file',\n",
    "                  'example/dir2/common_file',\n",
    "                  shallow=False))\n",
    "                  \n",
    "print('not_the_same:', end=' ')\n",
    "print(filecmp.cmp('example/dir1/not_the_same',\n",
    "                  'example/dir2/not_the_same'),\n",
    "      end=' ')\n",
    "\n",
    "print(filecmp.cmp('example/dir1/not_the_same',\n",
    "                  'example/dir1/not_the_same',\n",
    "                  shallow=False))\n",
    "      \n",
    "print('identical :', end=' ')\n",
    "print(filecmp.cmp('example/dir1/file_only_in_dir1',\n",
    "                  'example/dir1/file_only_in_dir1'),\n",
    "      end=' ')\n",
    "      \n",
    "print(filecmp.cmp('example/dir1/file_only_in_dir1',\n",
    "                  'example/dir1/file_only_in_dir1',\n",
    "                  shallow=False))"
   ]
  },
  {
   "cell_type": "markdown",
   "metadata": {},
   "source": [
    "Для сравнения двух наборов файлов, находящихся в двух разных каталогах,\n",
    "без применения рекурсии используйте функцию cmpfiles ()"
   ]
  },
  {
   "cell_type": "code",
   "execution_count": 44,
   "metadata": {},
   "outputs": [
    {
     "name": "stdout",
     "output_type": "stream",
     "text": [
      "Common files: ['not_the_same', 'common_file']\n",
      "Match : ['common_file']\n",
      "Mismatch : ['not_the_same']\n",
      "Errors : []\n"
     ]
    }
   ],
   "source": [
    "import filecmp\n",
    "import os\n",
    "\n",
    "# Определение элементов, существующих в обоих каталогах\n",
    "dl_contents = set(os.listdir('example/dir1'))\n",
    "d2_contents = set(os.listdir('example/dir2'))\n",
    "common = list(dl_contents & d2_contents)\n",
    "common_files = [\n",
    "    f\n",
    "    for f in common\n",
    "    if os.path.isfile(os.path.join('example/dir1', f))\n",
    "]\n",
    "print('Common files:', common_files)\n",
    "\n",
    "# Сравнение каталогов\n",
    "match, mismatch, errors = filecmp.cmpfiles(\n",
    "    'example/dir1',\n",
    "    'example/dir2',\n",
    "    common_files,\n",
    ")\n",
    "print('Match :', match)\n",
    "print('Mismatch :', mismatch)\n",
    "print('Errors :', errors)"
   ]
  },
  {
   "cell_type": "markdown",
   "metadata": {},
   "source": [
    "Функция cmpfiles () возвращает три списка имен файлов, которые соответствуют совпадающихМ и несовпадающим файлам, а также файлам, сравнение которых не может быть выполнено (ввиду отсутствия соответствующих полномочий\n",
    "доступа или по иным причинам)."
   ]
  },
  {
   "cell_type": "markdown",
   "metadata": {},
   "source": [
    "#### Сравнение каталогов "
   ]
  },
  {
   "cell_type": "markdown",
   "metadata": {},
   "source": [
    "Описанные до этого функции удобны для выполнения относительно простых\n",
    "сравнений. Если требуется рекурсивное сравнение больших деревьев каталогов или проведение более полного катализа, гораздо лучше использовать класс dircmp. \n",
    "\n",
    "В простейших случаях для получения отчета о результатах сравнения\n",
    "двух каталогов можно использовать функцию report ()."
   ]
  },
  {
   "cell_type": "code",
   "execution_count": 45,
   "metadata": {},
   "outputs": [
    {
     "name": "stdout",
     "output_type": "stream",
     "text": [
      "diff example/dir1 example/dir2\n",
      "Only in example/dir1 : ['dir_only_in_dir1', 'file_in_dirl', 'file_only_in_dir1']\n",
      "Only in example/dir2 : ['dir_only_in_dir2', 'file_in_dir1', 'file_only_in_dir2']\n",
      "Identical files : ['common_file']\n",
      "Differing files : ['not_the_same']\n",
      "Common subdirectories : ['common_dir']\n"
     ]
    }
   ],
   "source": [
    "import filecmp\n",
    "\n",
    "dc = filecmp.dircmp('example/dir1', 'example/dir2')\n",
    "dc.report()"
   ]
  },
  {
   "cell_type": "markdown",
   "metadata": {},
   "source": [
    "Для получения более подробной информации и выполнения рекурсивной опе-\n",
    "рации сравнения следует использовать функцию report_full_closure ()."
   ]
  },
  {
   "cell_type": "code",
   "execution_count": 46,
   "metadata": {},
   "outputs": [
    {
     "name": "stdout",
     "output_type": "stream",
     "text": [
      "diff example/dir1 example/dir2\n",
      "Only in example/dir1 : ['dir_only_in_dir1', 'file_in_dirl', 'file_only_in_dir1']\n",
      "Only in example/dir2 : ['dir_only_in_dir2', 'file_in_dir1', 'file_only_in_dir2']\n",
      "Identical files : ['common_file']\n",
      "Differing files : ['not_the_same']\n",
      "Common subdirectories : ['common_dir']\n",
      "\n",
      "diff example/dir1\\common_dir example/dir2\\common_dir\n",
      "Common subdirectories : ['dir1', 'dir2']\n",
      "\n",
      "diff example/dir1\\common_dir\\dir1 example/dir2\\common_dir\\dir1\n",
      "Identical files : ['common_file', 'file_in_dirl', 'file_only_in_dir1', 'not_the_same']\n",
      "Common subdirectories : ['common_dir', 'dir_only_in_dir1']\n",
      "\n",
      "diff example/dir1\\common_dir\\dir1\\common_dir example/dir2\\common_dir\\dir1\\common_dir\n",
      "\n",
      "diff example/dir1\\common_dir\\dir1\\dir_only_in_dir1 example/dir2\\common_dir\\dir1\\dir_only_in_dir1\n",
      "\n",
      "diff example/dir1\\common_dir\\dir2 example/dir2\\common_dir\\dir2\n",
      "Identical files : ['common_file', 'file_only_in_dir2', 'not_the_same']\n",
      "Common subdirectories : ['common_dir', 'dir_only_in_dir2', 'file_in_dir1']\n",
      "\n",
      "diff example/dir1\\common_dir\\dir2\\common_dir example/dir2\\common_dir\\dir2\\common_dir\n",
      "\n",
      "diff example/dir1\\common_dir\\dir2\\dir_only_in_dir2 example/dir2\\common_dir\\dir2\\dir_only_in_dir2\n",
      "\n",
      "diff example/dir1\\common_dir\\dir2\\file_in_dir1 example/dir2\\common_dir\\dir2\\file_in_dir1\n"
     ]
    }
   ],
   "source": [
    "import filecmp\n",
    "\n",
    "dc = filecmp.dircmp('example/dir1', 'example/dir2')\n",
    "dc.report_full_closure()"
   ]
  },
  {
   "cell_type": "markdown",
   "metadata": {},
   "source": [
    "Вывод включает результаты сравнения всех параллельных подкаталогов."
   ]
  },
  {
   "cell_type": "markdown",
   "metadata": {},
   "source": [
    "#### Домашнее задание  "
   ]
  },
  {
   "cell_type": "markdown",
   "metadata": {},
   "source": [
    "Создать каталог, содержащий 2 папки с произвольным набором файлов и сравнить их, используя функцию report()"
   ]
  },
  {
   "cell_type": "code",
   "execution_count": null,
   "metadata": {},
   "outputs": [],
   "source": []
  }
 ],
 "metadata": {
  "kernelspec": {
   "display_name": "Python 3",
   "language": "python",
   "name": "python3"
  },
  "language_info": {
   "codemirror_mode": {
    "name": "ipython",
    "version": 3
   },
   "file_extension": ".py",
   "mimetype": "text/x-python",
   "name": "python",
   "nbconvert_exporter": "python",
   "pygments_lexer": "ipython3",
   "version": "3.8.0"
  }
 },
 "nbformat": 4,
 "nbformat_minor": 4
}
